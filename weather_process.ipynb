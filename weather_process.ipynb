{
 "cells": [
  {
   "cell_type": "code",
   "execution_count": 33,
   "metadata": {
    "collapsed": true
   },
   "outputs": [],
   "source": [
    "import pandas as pd\n",
    "import numpy as np\n",
    "import matplotlib.pyplot as plt\n",
    "weather_data=pd.read_csv(\"weather_data.csv\",encoding=\"utf-8\")"
   ]
  },
  {
   "cell_type": "code",
   "execution_count": 34,
   "metadata": {},
   "outputs": [
    {
     "name": "stdout",
     "output_type": "stream",
     "text": [
      "          ﻿日期     天气状况        气温              风力风向\n0   2015年1月1日     阴 /阴   8℃ / 6℃   东北风 ≤3级 /南风 ≤3级\n1   2015年1月2日   多云 /多云  12℃ / 6℃    南风 ≤3级 /南风 ≤3级\n2   2015年1月3日   多云 /多云  13℃ / 7℃    南风 ≤3级 /南风 ≤3级\n3   2015年1月4日    多云 /阴  13℃ / 7℃  东北风 ≤3级 /东南风 ≤3级\n4   2015年1月5日   小雨 /小雨  11℃ / 3℃  东南风 ≤3级 /东北风 ≤3级\n5   2015年1月6日   小雨 /小雨   6℃ / 3℃  东北风 ≤3级 /东北风 ≤3级\n6   2015年1月7日    阴 /小雨   6℃ / 2℃  东北风 ≤3级 /东北风 ≤3级\n7   2015年1月8日   小雨 /小雨   5℃ / 1℃  东北风 ≤3级 /东北风 ≤3级\n8   2015年1月9日  雨夹雪 /小雪   4℃ / 0℃  东北风 ≤3级 /东北风 ≤3级\n9  2015年1月10日   小雨 /小雨   6℃ / 3℃  东北风 ≤3级 /东北风 ≤3级\n"
     ]
    },
    {
     "data": {
      "text/plain": [
       "﻿日期     False\n天气状况    False\n气温      False\n风力风向    False\ndtype: bool"
      ]
     },
     "execution_count": 34,
     "metadata": {},
     "output_type": "execute_result"
    }
   ],
   "source": [
    "print(weather_data.head(10))\n",
    "weather_data.isnull().any()"
   ]
  },
  {
   "cell_type": "code",
   "execution_count": 35,
   "metadata": {},
   "outputs": [],
   "source": [
    "weather_data.rename(columns={weather_data.columns[0]:'accidenttime'},inplace=True)"
   ]
  },
  {
   "cell_type": "code",
   "execution_count": 36,
   "metadata": {},
   "outputs": [],
   "source": [
    "weather_data[\"accidenttime\"]=weather_data[\"accidenttime\"].str.replace(\"年\",\"-\")\n",
    "weather_data[\"accidenttime\"]=weather_data[\"accidenttime\"].str.replace(\"月\",\"-\")\n",
    "weather_data[\"accidenttime\"]=weather_data[\"accidenttime\"].str.replace(\"日\",\"\")"
   ]
  },
  {
   "cell_type": "code",
   "execution_count": 37,
   "metadata": {},
   "outputs": [],
   "source": [
    "weather_data.rename(columns={weather_data.columns[1]:'weather'},inplace=True)\n",
    "weather_data.rename(columns={weather_data.columns[2]:'temperature'},inplace=True)"
   ]
  },
  {
   "cell_type": "code",
   "execution_count": 38,
   "metadata": {},
   "outputs": [],
   "source": [
    "temperature_max=weather_data[\"temperature\"].str.extract(r\"(\\d*)℃\",expand=False)\n",
    "temperature_min=weather_data[\"temperature\"].str.extract(r\"/ (-*\\d*)℃\",expand=False)\n",
    "weather_data[\"temperature_min\"]=temperature_min\n",
    "weather_data[\"temperature_max\"]=temperature_max\n",
    "# print(max_temp)"
   ]
  },
  {
   "cell_type": "code",
   "execution_count": 39,
   "metadata": {},
   "outputs": [],
   "source": [
    "weather_data[\"weather\"]=weather_data[\"weather\"].str.strip()\n",
    "weather_data[\"weather\"]=weather_data[\"weather\"].str.replace(\"~\",\" /\")\n",
    "weather1=weather_data[\"weather\"].str.extract(r\"(\\S+) /\",expand=False)\n",
    "weather2=weather_data[\"weather\"].str.extract(r\"/(\\S+)\",expand=False)\n",
    "#print(weather1[342:])\n",
    "#print(weather2[342:])\n",
    "error1=list(weather1[weather1.isnull()==True].index)\n",
    "weather1[error1]=weather_data[\"weather\"][error1]\n",
    "\n",
    "error2=list(weather1[weather2.isnull()==True].index)\n",
    "weather2[error2]=weather_data[\"weather\"][error2]\n",
    "\n",
    "weather_data[\"weather1\"]=weather1\n",
    "weather_data[\"weather2\"]=weather2"
   ]
  },
  {
   "cell_type": "code",
   "execution_count": 40,
   "metadata": {},
   "outputs": [],
   "source": [
    "wind=weather_data[\"风力风向\"]\n",
    "wind=wind.str.replace(\"~\",\" /\")\n",
    "wind1=wind.str.extract(r\"(\\S+) ≤3级\",expand=False)\n",
    "wind2=wind.str.extract(r\"/(\\S+) ≤3级\",expand=False)\n",
    "error_wind1=list(wind1[wind1.isnull()==True].index)\n",
    "wind1[error_wind1]=weather_data[\"风力风向\"][error_wind1]\n",
    "\n",
    "error_wind2=list(wind2[wind2.isnull()==True].index)\n",
    "wind2[error_wind2]=weather_data[\"风力风向\"][error_wind2]\n",
    "wind1[352]=\"东南风\"\n",
    "wind2[352]=\"东北风\"\n",
    "\n",
    "wind1[352]=\"东风\"\n",
    "wind2[353]=\"东北风\"\n",
    "\n",
    "wind1[361]=\"东风\"\n",
    "wind2[361]=\"东北风\"\n",
    "\n",
    "weather_data[\"wind1\"]=wind1\n",
    "weather_data[\"wind2\"]=wind2"
   ]
  },
  {
   "cell_type": "code",
   "execution_count": 41,
   "metadata": {},
   "outputs": [
    {
     "name": "stdout",
     "output_type": "stream",
     "text": [
      "353    东风~东南风\nName: 风力风向, dtype: object\naccidenttime       2015-12-20\nweather                    小雨\ntemperature           5℃ / 1℃\n风力风向                   东风~东南风\ntemperature_min             1\ntemperature_max             5\nweather1                   小雨\nweather2                   小雨\nwind1                     东南风\nwind2                     东北风\nName: 353, dtype: object\n"
     ]
    }
   ],
   "source": [
    "print(wind1[wind1.str.contains(\"东风~东南风\")==True])\n",
    "weather_data.loc[353,\"wind1\"]=\"东南风\"\n",
    "print(weather_data.loc[353])"
   ]
  },
  {
   "cell_type": "code",
   "execution_count": 43,
   "metadata": {},
   "outputs": [
    {
     "name": "stdout",
     "output_type": "stream",
     "text": [
      "  accidenttime  temperature_min  temperature_max weather1 weather2 wind1  \\\n0     2015-1-1                6                8        阴        阴   东北风   \n1     2015-1-2                6               12       多云       多云    南风   \n2     2015-1-3                7               13       多云       多云    南风   \n3     2015-1-4                7               13       多云        阴   东北风   \n4     2015-1-5                3               11       小雨       小雨   东南风   \n\n  wind2  diff_temperature  \n0    南风                 2  \n1    南风                 6  \n2    南风                 6  \n3   东南风                 6  \n4   东北风                 8  \n"
     ]
    }
   ],
   "source": [
    "weather_data=weather_data.drop(\"weather\",axis=1)\n",
    "weather_data=weather_data.drop(\"风力风向\",axis=1)\n",
    "weather_data=weather_data.drop(\"temperature\",axis=1)\n",
    "weather_data.temperature_min=weather_data.temperature_min.astype(np.int64)\n",
    "weather_data.temperature_max=weather_data.temperature_max.astype(np.int64)\n",
    "diff_temperature=weather_data.temperature_max-weather_data.temperature_min\n",
    "weather_data[\"diff_temperature\"]=diff_temperature\n",
    "print(weather_data.head())"
   ]
  },
  {
   "cell_type": "code",
   "execution_count": 48,
   "metadata": {},
   "outputs": [
    {
     "name": "stdout",
     "output_type": "stream",
     "text": [
      "accidenttime        2015-6-27\ntemperature_min            23\ntemperature_max            30\nweather1                   多云\nweather2                   多云\nwind1                      南风\nwind2                      南风\ndiff_temperature            7\nName: 177, dtype: object\n"
     ]
    }
   ],
   "source": [
    "# print(wind1[wind1.str.contains(\"南风 ≤3级 /南风 3-4级\")==True])\n",
    "weather_data.loc[177,\"wind2\"]=\"南风\"\n",
    "print(weather_data.loc[177])"
   ]
  },
  {
   "cell_type": "code",
   "execution_count": 49,
   "metadata": {},
   "outputs": [],
   "source": [
    "weather_data.to_csv(\"weather_data_processed.csv\",encoding=\"utf-8\",index_label=\"id\")"
   ]
  },
  {
   "cell_type": "code",
   "execution_count": null,
   "metadata": {},
   "outputs": [],
   "source": [
    ""
   ]
  }
 ],
 "metadata": {
  "kernelspec": {
   "display_name": "Python 2",
   "language": "python",
   "name": "python2"
  },
  "language_info": {
   "codemirror_mode": {
    "name": "ipython",
    "version": 2.0
   },
   "file_extension": ".py",
   "mimetype": "text/x-python",
   "name": "python",
   "nbconvert_exporter": "python",
   "pygments_lexer": "ipython2",
   "version": "2.7.6"
  }
 },
 "nbformat": 4,
 "nbformat_minor": 0
}