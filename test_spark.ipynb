{
 "cells": [
  {
   "cell_type": "code",
   "execution_count": 1,
   "metadata": {
    "collapsed": true
   },
   "outputs": [],
   "source": [
    "from spark_process import process_data as spark_process"
   ]
  },
  {
   "cell_type": "code",
   "execution_count": 2,
   "metadata": {},
   "outputs": [],
   "source": [
    "import time\n",
    "# accident_data.printSchema()"
   ]
  },
  {
   "cell_type": "code",
   "execution_count": 3,
   "metadata": {},
   "outputs": [
    {
     "name": "stdout",
     "output_type": "stream",
     "text": [
      "-53.51999354362488\n"
     ]
    }
   ],
   "source": [
    "t1=time.time()\n",
    "accident_data_spark=spark_process()\n",
    "print(t1-time.time())"
   ]
  },
  {
   "cell_type": "code",
   "execution_count": 6,
   "metadata": {},
   "outputs": [
    {
     "name": "stdout",
     "output_type": "stream",
     "text": [
      "root\n |-- accidenttime: string (nullable = true)\n |-- accidentaddr: string (nullable = true)\n |-- driver1responsibility: string (nullable = true)\n |-- driver2responsibility: string (nullable = true)\n |-- platenumber1: string (nullable = true)\n |-- platenumber2: string (nullable = true)\n |-- cclzrq1: string (nullable = true)\n |-- cclzrq2: string (nullable = true)\n |-- driver1license: string (nullable = true)\n |-- driver2license: string (nullable = true)\n |-- brith1: string (nullable = true)\n |-- brith2: string (nullable = true)\n |-- is_private: string (nullable = true)\n |-- end_number1: string (nullable = true)\n |-- end_number2: string (nullable = true)\n |-- is_private1: string (nullable = true)\n |-- is_private2: string (nullable = true)\n |-- driver1_days: string (nullable = true)\n |-- driver2_days: string (nullable = true)\n |-- driver1_years: string (nullable = true)\n |-- driver2_years: string (nullable = true)\n |-- driver1_age: string (nullable = true)\n |-- driver2_age: string (nullable = true)\n |-- difference_age: string (nullable = true)\n |-- clcpp1: string (nullable = true)\n |-- clcpp2: string (nullable = true)\n |-- temperature_min: string (nullable = true)\n |-- temperature_max: string (nullable = true)\n |-- diff_temperature: string (nullable = true)\n |-- jszh_x: string (nullable = true)\n |-- jszh_y: string (nullable = true)\n |-- fine_y: string (nullable = true)\n |-- score_y: string (nullable = true)\n |-- maxtime_y: string (nullable = true)\n |-- xfcount_y: string (nullable = true)\n |-- wfxw_y: string (nullable = true)\n |-- driver1_age_category: integer (nullable = true)\n |-- driver2_age_category: integer (nullable = true)\n |-- driver1_year_category: integer (nullable = true)\n |-- driver2_year_category: integer (nullable = true)\n |-- clpp1_category: integer (nullable = true)\n |-- clpp2_category: integer (nullable = true)\n |-- jxmc1_category: integer (nullable = true)\n |-- jxmc2_category: integer (nullable = true)\n |-- temperature: double (nullable = true)\n |-- driver1fault: integer (nullable = true)\n |-- sex1: integer (nullable = true)\n |-- carcolor1: integer (nullable = true)\n |-- clpp1: integer (nullable = true)\n |-- jxmc1: integer (nullable = true)\n |-- sex2: integer (nullable = true)\n |-- carcolor2: integer (nullable = true)\n |-- clpp2: integer (nullable = true)\n |-- jxmc2: integer (nullable = true)\n |-- accident_month: integer (nullable = true)\n |-- accident_quarter: integer (nullable = true)\n |-- accident_weekday: integer (nullable = true)\n |-- accident_day: integer (nullable = true)\n |-- accident_hour: integer (nullable = true)\n |-- accident_minute: integer (nullable = true)\n |-- is_province1: integer (nullable = true)\n |-- is_city1: integer (nullable = true)\n |-- is_driver1_city: integer (nullable = true)\n |-- is_driver1_province: integer (nullable = true)\n |-- is_province2: integer (nullable = true)\n |-- is_city2: integer (nullable = true)\n |-- is_driver2_city: integer (nullable = true)\n |-- is_driver2_province: integer (nullable = true)\n |-- weather1: integer (nullable = true)\n |-- weather2: integer (nullable = true)\n |-- wind1: integer (nullable = true)\n |-- wind2: integer (nullable = true)\n |-- district: integer (nullable = true)\n |-- lng: integer (nullable = true)\n |-- lat: integer (nullable = true)\n |-- fine_x: integer (nullable = true)\n |-- score_x: integer (nullable = true)\n |-- maxtime_x: integer (nullable = true)\n |-- xfcount_x: integer (nullable = true)\n |-- wfxw_x: integer (nullable = true)\n\n"
     ]
    }
   ],
   "source": [
    "accident_data_spark.printSchema()"
   ]
  },
  {
   "cell_type": "code",
   "execution_count": 9,
   "metadata": {},
   "outputs": [
    {
     "name": "stderr",
     "output_type": "stream",
     "text": [
      "E:\\Anaconda\\lib\\site-packages\\IPython\\core\\interactiveshell.py:2821: DtypeWarning: Columns (21,22) have mixed types. Specify dtype option on import or set low_memory=False.\n  if self.run_code(code, result):\n"
     ]
    },
    {
     "name": "stderr",
     "output_type": "stream",
     "text": [
      "E:\\traffic\\pandas_process.py:43: SettingWithCopyWarning: \nA value is trying to be set on a copy of a slice from a DataFrame\n\nSee the caveats in the documentation: http://pandas.pydata.org/pandas-docs/stable/indexing.html#indexing-view-versus-copy\n  accident_data[\"driver1_years\"][np.isnan(accident_data[\"driver1_years\"])] = age_null_random_list\nE:\\traffic\\pandas_process.py:54: SettingWithCopyWarning: \nA value is trying to be set on a copy of a slice from a DataFrame\n\nSee the caveats in the documentation: http://pandas.pydata.org/pandas-docs/stable/indexing.html#indexing-view-versus-copy\n  accident_data[\"driver2_years\"][np.isnan(accident_data[\"driver2_years\"])] = age_null_random_list\n"
     ]
    },
    {
     "name": "stdout",
     "output_type": "stream",
     "text": [
      "-14.040105819702148\n"
     ]
    }
   ],
   "source": [
    "from pandas_process import process_data as pandas_process\n",
    "t2=time.time()\n",
    "accident_data=pandas_process()\n",
    "print(t2-time.time())"
   ]
  },
  {
   "cell_type": "code",
   "execution_count": 8,
   "metadata": {
    "collapsed": true
   },
   "outputs": [
    {
     "name": "stdout",
     "output_type": "stream",
     "text": [
      "<class 'pandas.core.frame.DataFrame'>\nInt64Index: 55631 entries, 0 to 56650\nData columns (total 77 columns):\naccidenttime             55631 non-null datetime64[ns]\naccidentaddr             55631 non-null object\ndriver1fault             55631 non-null int64\ndriver1responsibility    55631 non-null int64\ndriver2responsibility    55631 non-null int64\nsex1                     55631 non-null int64\nplatenumber1             55631 non-null object\ncarcolor1                55630 non-null float64\nsex2                     55631 non-null int64\nplatenumber2             55631 non-null object\ncarcolor2                55631 non-null int64\njxmc1                    55631 non-null int64\njxmc2                    55631 non-null int64\ncclzrq1                  55631 non-null object\ncclzrq2                  55631 non-null object\nclpp1                    55631 non-null int64\nclpp2                    55631 non-null int64\ndriver1license           55631 non-null object\ndriver2license           55631 non-null object\nbrith1                   54677 non-null object\nbrith2                   55613 non-null object\naccident_month           55631 non-null int64\naccident_quarter         55631 non-null int64\naccident_weekday         55631 non-null int64\naccident_day             55631 non-null int64\naccident_hour            55631 non-null int64\naccident_minute          55631 non-null int64\nis_province1             55631 non-null int32\nis_province2             55631 non-null int32\nis_city1                 55631 non-null int32\nis_city2                 55631 non-null int32\nis_private               55631 non-null bool\nend_number1              55527 non-null object\nend_number2              55552 non-null object\nis_private1              55631 non-null bool\nis_private2              55631 non-null bool\nis_driver1_city          55631 non-null int32\nis_driver2_city          55631 non-null int32\nis_driver1_province      55631 non-null int32\nis_driver2_province      55631 non-null int32\ndriver1_days             44744 non-null float64\ndriver2_days             42222 non-null float64\ndriver1_years            55631 non-null int32\ndriver2_years            55631 non-null int32\ndriver1_age              54575 non-null float64\ndriver2_age              54441 non-null float64\ndifference_age           53505 non-null float64\nclcpp1                   55631 non-null object\nclcpp2                   55631 non-null object\ntemperature_min          55631 non-null int64\ntemperature_max          55631 non-null int64\nweather1                 55631 non-null int64\nweather2                 55631 non-null int64\nwind1                    55631 non-null int64\nwind2                    55631 non-null int64\ndiff_temperature         55631 non-null int64\ndistrict                 48939 non-null float64\nlng                      55631 non-null float64\nlat                      55631 non-null float64\njszh_x                   20021 non-null object\nfine_x                   20021 non-null float64\nscore_x                  20021 non-null float64\nmaxtime_x                20021 non-null datetime64[ns]\nxfcount_x                20021 non-null float64\nwfxw_x                   20021 non-null float64\njszh_y                   19599 non-null object\nfine_y                   19599 non-null float64\nscore_y                  19599 non-null float64\nmaxtime_y                19599 non-null datetime64[ns]\nxfcount_y                19599 non-null float64\nwfxw_y                   19599 non-null float64\ndriver1_age_category     55631 non-null int64\ndriver2_age_category     55631 non-null int64\ndriver1_year_category    55631 non-null int64\ndriver2_year_category    55631 non-null int64\ndifftime_x               20021 non-null float64\ndifftime_y               19599 non-null float64\ndtypes: bool(3), datetime64[ns](3), float64(19), int32(10), int64(27), object(15)\nmemory usage: 29.9+ MB\nNone\n"
     ]
    }
   ],
   "source": [
    "print(accident_data.info())"
   ]
  },
  {
   "cell_type": "code",
   "execution_count": null,
   "metadata": {},
   "outputs": [],
   "source": [
    ""
   ]
  }
 ],
 "metadata": {
  "kernelspec": {
   "display_name": "Python 2",
   "language": "python",
   "name": "python2"
  },
  "language_info": {
   "codemirror_mode": {
    "name": "ipython",
    "version": 2.0
   },
   "file_extension": ".py",
   "mimetype": "text/x-python",
   "name": "python",
   "nbconvert_exporter": "python",
   "pygments_lexer": "ipython2",
   "version": "2.7.6"
  }
 },
 "nbformat": 4,
 "nbformat_minor": 0
}